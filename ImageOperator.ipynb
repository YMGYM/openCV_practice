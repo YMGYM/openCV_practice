{
 "cells": [
  {
   "cell_type": "markdown",
   "metadata": {},
   "source": [
    "# 이미지 연산\n",
    "\n",
    "## 이미지 더하기\n",
    "방법이 총 두 가지\n",
    "`cv2.add()` : Saturation 연산 (범위 밖 값은 모두 한계값으로 설정)\n",
    "\n",
    "`img1 + img2` : Modulo 연산 (한계 값으로 나눈 나머지로 연산)\n"
   ]
  },
  {
   "cell_type": "markdown",
   "metadata": {},
   "source": [
    "## 이미지 Blending\n",
    "\n",
    "이미지에 가중치를 두어 합치는 방법"
   ]
  },
  {
   "cell_type": "code",
   "execution_count": 1,
   "metadata": {},
   "outputs": [],
   "source": [
    "import cv2\n",
    "import numpy as np"
   ]
  },
  {
   "cell_type": "code",
   "execution_count": 11,
   "metadata": {},
   "outputs": [],
   "source": [
    "img1 = cv2.imread(\"Images/Sample_mili.jpg\")\n",
    "img2 = cv2.imread(\"Images/Sample_mili2.jpg\")"
   ]
  },
  {
   "cell_type": "code",
   "execution_count": 8,
   "metadata": {},
   "outputs": [],
   "source": [
    "def nothing(x):\n",
    "    pass"
   ]
  },
  {
   "cell_type": "code",
   "execution_count": 18,
   "metadata": {},
   "outputs": [
    {
     "data": {
      "text/plain": [
       "-1"
      ]
     },
     "execution_count": 18,
     "metadata": {},
     "output_type": "execute_result"
    }
   ],
   "source": [
    "cv2.namedWindow(\"image\")\n",
    "cv2.createTrackbar('W', 'image', 0, 100, nothing)\n",
    "\n",
    "while True:\n",
    "    \n",
    "    w = cv2.getTrackbarPos('W', 'image')\n",
    "    \n",
    "    dst = cv2.addWeighted(img1, float(100 - w) * 0.01 , img2, float(w) * 0.01, 0)\n",
    "    \n",
    "    cv2.imshow('dst', dst)\n",
    "    \n",
    "    if cv2.waitKey(1) &0xFF == 27:\n",
    "        break\n",
    "        \n",
    "cv2.destroyAllWindows()\n",
    "cv2.waitKey(1)\n",
    "    "
   ]
  },
  {
   "cell_type": "markdown",
   "metadata": {},
   "source": [
    "## 비트연산\n",
    "AND OR NOT XOR 연산\n",
    "\n",
    "이미지에서 바탕을 제거하고 이미지에 추가하는 예시"
   ]
  },
  {
   "cell_type": "code",
   "execution_count": 19,
   "metadata": {},
   "outputs": [],
   "source": [
    "import cv2\n",
    "import numpy as np"
   ]
  },
  {
   "cell_type": "code",
   "execution_count": 88,
   "metadata": {},
   "outputs": [],
   "source": [
    "img1 = cv2.imread(\"Images/Sample_mili.jpg\")\n",
    "img2 = cv2.imread(\"Images/Sample_mili3.jpg\")"
   ]
  },
  {
   "cell_type": "code",
   "execution_count": 89,
   "metadata": {},
   "outputs": [],
   "source": [
    "# 삽입할 이미지의 정보\n",
    "rows, cols, channels = img1.shape"
   ]
  },
  {
   "cell_type": "code",
   "execution_count": 90,
   "metadata": {},
   "outputs": [],
   "source": [
    "roi = img2[0:rows, 0:cols]"
   ]
  },
  {
   "cell_type": "code",
   "execution_count": 92,
   "metadata": {},
   "outputs": [
    {
     "name": "stdout",
     "output_type": "stream",
     "text": [
      "[[96 96 96 ... 96 96 96]\n",
      " [96 96 96 ... 96 96 96]\n",
      " [96 96 96 ... 96 96 96]\n",
      " ...\n",
      " [96 96 96 ... 96 96 96]\n",
      " [96 96 96 ... 96 96 96]\n",
      " [96 96 96 ... 96 96 96]]\n"
     ]
    }
   ],
   "source": [
    "# mask 를 만든다.\n",
    "img2gray = cv2.cvtColor(img1, cv2.COLOR_BGR2GRAY)\n",
    "print(img2gray)\n",
    "#다음 챕터에서 다루는 내용|\n",
    "ret, mask = cv2.threshold(img2gray, 96 , 255, cv2.THRESH_BINARY)\n",
    "mask_inv = cv2.bitwise_not(mask)"
   ]
  },
  {
   "cell_type": "code",
   "execution_count": 96,
   "metadata": {},
   "outputs": [],
   "source": [
    "\n",
    "# 둘다 0이 아닌 경우에만 값을 통과 시킴.\n",
    "# mask 이외의 영역을 모두 제거함\n",
    "# https://copycoding.tistory.com/156\n",
    "img1_fg = cv2.bitwise_or(img1, img1, mask=mask)\n",
    "img2_bg = cv2.bitwise_and(roi, roi, mask=mask_inv)\n",
    "\n",
    "# 2개의 이미지를 합치면 바탕은 제거된 채 logo 부분만.\n",
    "dst = cv2.add(img1_fg, img2_bg)\n",
    "\n",
    "# 합쳐진 이미지를 원본에 추가\n",
    "img2[0:rows, 0:cols] = dst"
   ]
  },
  {
   "cell_type": "code",
   "execution_count": 99,
   "metadata": {},
   "outputs": [
    {
     "data": {
      "text/plain": [
       "-1"
      ]
     },
     "execution_count": 99,
     "metadata": {},
     "output_type": "execute_result"
    }
   ],
   "source": [
    "cv2.imshow('res', img2)\n",
    "cv2.waitKey(0)\n",
    "cv2.destroyAllWindows()\n",
    "cv2.waitKey(1)"
   ]
  },
  {
   "cell_type": "code",
   "execution_count": null,
   "metadata": {},
   "outputs": [],
   "source": []
  },
  {
   "cell_type": "code",
   "execution_count": null,
   "metadata": {},
   "outputs": [],
   "source": []
  }
 ],
 "metadata": {
  "kernelspec": {
   "display_name": "Python 3",
   "language": "python",
   "name": "python3"
  },
  "language_info": {
   "codemirror_mode": {
    "name": "ipython",
    "version": 3
   },
   "file_extension": ".py",
   "mimetype": "text/x-python",
   "name": "python",
   "nbconvert_exporter": "python",
   "pygments_lexer": "ipython3",
   "version": "3.8.6"
  }
 },
 "nbformat": 4,
 "nbformat_minor": 4
}
