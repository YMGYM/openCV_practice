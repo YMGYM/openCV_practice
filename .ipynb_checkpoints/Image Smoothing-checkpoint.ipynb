{
 "cells": [
  {
   "cell_type": "markdown",
   "metadata": {},
   "source": [
    "# Image Smoothing\n",
    "\n",
    "## Image Filtering\n",
    "\n",
    "이미지를 주파수로 표현할 수 있다.\n",
    "일반적으로 고주파는 밝기의 변화가 많은 곳(경계선), 저주파는 밝기의 변화가 적은 곳 (배경)에서 나타남\n",
    "따라서 고주파를 제거하면 blur 처리가 되며, 저주파를 제거하면 대상의 영역을 확인할 수 있다.\n",
    "\n",
    "Low-pass filter(LPF)를 사용하여 노이즈 제거와 blur 처리를 할 수 있으며,\n",
    "High-pass filter(HPF)를 적용하면 경계선을 찾을 수 있다.\n",
    "\n",
    "각 픽셀을 기점으로 합성곱 처리 후 평균값을 픽셀에 적용한다"
   ]
  },
  {
   "cell_type": "code",
   "execution_count": 1,
   "metadata": {},
   "outputs": [
    {
     "data": {
      "text/plain": [
       "-1"
      ]
     },
     "execution_count": 1,
     "metadata": {},
     "output_type": "execute_result"
    }
   ],
   "source": [
    "import cv2\n",
    "import numpy as np\n",
    "\n",
    "def nothing(x):\n",
    "    pass\n",
    "\n",
    "img = cv2.imread(\"Images/Sample_mili3.jpg\")\n",
    "\n",
    "cv2.namedWindow('image')\n",
    "cv2.createTrackbar('K', 'image', 1, 20, nothing)\n",
    "\n",
    "while(1):\n",
    "    if cv2.waitKey(1) & 0xFF == 27:\n",
    "        break\n",
    "    k = cv2.getTrackbarPos('K', 'image')\n",
    "    \n",
    "    # (0, 0) 이면 에러가 발생하므로 1로 치환\n",
    "    if k == 0:\n",
    "        k = 1\n",
    "        \n",
    "    kernel = np.ones((k, k), np.float32)/(k^2)\n",
    "    dst = cv2.filter2D(img, -1, kernel) # cv2.filter2D(원본, 이미지의 깊이(-1이면 원본이랑 같게), 커널, ...)\n",
    "    \n",
    "    cv2.imshow('image', dst)\n",
    "    \n",
    "cv2.destroyAllWindows()\n",
    "cv2.waitKey(1)"
   ]
  },
  {
   "cell_type": "markdown",
   "metadata": {},
   "source": [
    "## Image Blurring\n",
    "이미지 Blurring 은 low-pass filter 을 적용한다.\n",
    "\n",
    "`cv2.blur(src, ksize)` : 동일한 수를 이용한 필터\n",
    "- src\n",
    "- ksize : 커널 사이즈\n",
    "\n",
    "`cv2.GaussianBlur(img, ksize, sigmaX)` : 가우시안 필터를 이용함\n",
    "- sigmaX = Gaussian의 standard deviation(in X)\n",
    "\n",
    "`cv2.midianBlur(src, ksize)` : 필터 내에 들어온 값 중 중간값을 사용한다\n",
    "\n",
    "`cv2.bilateralFilter(src, d, sigmaColor, sigmaSpace)`\n",
    "- src : 8bit 1, 3channel\n",
    "- d : filtering시 고려할 주변 pixel 지름\n",
    "- sigmaColor : Color를 고려할 공간. 숫자가 크면 멀리 있는 pixel도 고려함\n",
    "- sigmaSpace : 숫자가 크면 멀리 있는 pixel도 고려함"
   ]
  },
  {
   "cell_type": "code",
   "execution_count": null,
   "metadata": {},
   "outputs": [],
   "source": [
    "import cv2\n",
    "import numpy as np\n",
    "import matplotlib.pyplot as plt\n",
    "\n",
    "img = cv2.imread(\"Images/Sample_mili3.jpg\")\n",
    "\n",
    "# BGR => RGB\n",
    "b, g, r = cv2.split(img)\n",
    "img = cv2.merge([r, b, b])\n",
    "\n",
    "# 일반 Blur\n",
    "dst1 = cv2.blur(img, (7,7))\n",
    "\n",
    "# Gaussian Blur\n",
    "dst2 = cv2.GaussianBlur(img, (5, 5), 0)\n",
    "\n",
    "# Median Filtering\n",
    "dst3 = cv2.medianBlur(img, 9)"
   ]
  }
 ],
 "metadata": {
  "kernelspec": {
   "display_name": "Python 3",
   "language": "python",
   "name": "python3"
  },
  "language_info": {
   "codemirror_mode": {
    "name": "ipython",
    "version": 3
   },
   "file_extension": ".py",
   "mimetype": "text/x-python",
   "name": "python",
   "nbconvert_exporter": "python",
   "pygments_lexer": "ipython3",
   "version": "3.8.6"
  }
 },
 "nbformat": 4,
 "nbformat_minor": 4
}
