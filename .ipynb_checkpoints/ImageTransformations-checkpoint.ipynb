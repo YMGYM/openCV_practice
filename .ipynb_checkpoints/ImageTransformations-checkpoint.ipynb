{
 "cells": [
  {
   "cell_type": "markdown",
   "metadata": {},
   "source": [
    "# Transformations\n",
    "\n",
    "변환은 좌표x를 좌표x' 으로 변환하는 것\n",
    "\n",
    "- 강체 변환(Ridid-Body) : 크기 및 각도가 보존(ex: Translation, Rotation)\n",
    "- 유사 변환(Similarity) : 크기는 변하고 각도는 보존(ex: Scaling)\n",
    "- 선형 변환(Linear) : Vector 공간에서의 이동.\n",
    "- Affine : 선형 변환+이동 변환. 선의 수평성은 유지(ex: 사각형 -> 평행사변형)\n",
    "- perspective : Affine변환에 수평성이 유지되지 않음 (원근변환)\n",
    "\n",
    "## Scaling\n",
    "이미지의 사이즈를 변하게 하는 것\n",
    "`cv2.resize()`함수로 적용\n",
    "픽셀 사이 값을 적용해야 하는데, 이럴 때 '보간법'이 적용된다.\n",
    "많이 사용하는 보간법\n",
    "- `cv2.INTER_AREA` : 사이즈를 줄일 때\n",
    "- `cv2.INTER_CUBIC` : 사이즈를 키울 때\n",
    "- `cv2.INTER_LINEAR` : 사이즈를 키울 때\n",
    "\n",
    "자세한 설명은 다음 링크를 참조\n",
    "https://m.blog.naver.com/vps32/221762092250\n",
    "\n",
    "`cv2.resize(img, dsize, fx, fy, interpolation)`\n",
    "- img : 대상 이미지\n",
    "- dsize : manual Size, tuple로 적용\n",
    "- fx : 가로 사이즈 배수 (2인 경우 2배)\n",
    "- fy : 세로 사이즈 배수\n",
    "- interpolation : 사용할 보간법"
   ]
  },
  {
   "cell_type": "code",
   "execution_count": 5,
   "metadata": {},
   "outputs": [
    {
     "data": {
      "text/plain": [
       "(160, 160, 3)"
      ]
     },
     "execution_count": 5,
     "metadata": {},
     "output_type": "execute_result"
    }
   ],
   "source": [
    "import cv2\n",
    "import numpy as np\n",
    "\n",
    "img = cv2.imread(\"Images/Sample_mili.jpg\")\n",
    "img.shape"
   ]
  },
  {
   "cell_type": "code",
   "execution_count": 9,
   "metadata": {},
   "outputs": [],
   "source": [
    "# 이미지 행, 열\n",
    "height, width = img.shape[:2]\n",
    "\n",
    "# 이미지 축소\n",
    "shrink = cv2.resize(img, None, fx=0.5, fy = 0.5, interpolation=cv2.INTER_AREA)\n",
    "\n",
    "# Manual Size \n",
    "zoom1 = cv2.resize(img, (width * 2, height*2), interpolation=cv2.INTER_CUBIC)\n",
    "\n",
    "zoom2 = cv2.resize(img, None, fx=2, fy=2, interpolation=cv2.INTER_LINEAR)"
   ]
  },
  {
   "cell_type": "code",
   "execution_count": 10,
   "metadata": {},
   "outputs": [
    {
     "data": {
      "text/plain": [
       "(320, 320, 3)"
      ]
     },
     "execution_count": 10,
     "metadata": {},
     "output_type": "execute_result"
    }
   ],
   "source": [
    "zoom2.shape"
   ]
  },
  {
   "cell_type": "code",
   "execution_count": 11,
   "metadata": {},
   "outputs": [
    {
     "data": {
      "text/plain": [
       "-1"
      ]
     },
     "execution_count": 11,
     "metadata": {},
     "output_type": "execute_result"
    }
   ],
   "source": [
    "cv2.imshow(\"Original\", img)\n",
    "cv2.imshow(\"Shrink\", shrink)\n",
    "# cv2.imshow(\"zoom1\", zoom1)\n",
    "cv2.imshow(\"zoom2\", zoom2)\n",
    "\n",
    "cv2.waitKey(0)\n",
    "cv2.destroyAllWindows()\n",
    "cv2.waitKey(1)"
   ]
  },
  {
   "cell_type": "markdown",
   "metadata": {},
   "source": [
    "## Translation\n",
    "이미지의 위치 변환\n",
    "\n",
    "`cv2.warpAffine(src, M, dsize)`\n",
    "- src : 이미지\n",
    "- M : 변환 행렬\n",
    "- dsize : output Image size"
   ]
  },
  {
   "cell_type": "code",
   "execution_count": 13,
   "metadata": {},
   "outputs": [
    {
     "data": {
      "text/plain": [
       "-1"
      ]
     },
     "execution_count": 13,
     "metadata": {},
     "output_type": "execute_result"
    }
   ],
   "source": [
    "import cv2\n",
    "import numpy as np\n",
    "\n",
    "img = cv2.imread(\"Images/Sample_mili.jpg\")\n",
    "\n",
    "rows, cols = img.shape[:2]\n",
    "\n",
    "# 변환 행렬 (x축으로 10, y축으로 20)\n",
    "M = np.float32([[1,0,10],[0,1,20]])\n",
    "\n",
    "dst = cv2.warpAffine(img, M, (cols, rows))\n",
    "cv2.imshow('Original', img)\n",
    "cv2.imshow(\"Translation\", dst)\n",
    "\n",
    "cv2.waitKey(0)\n",
    "cv2.destroyAllWindows()\n",
    "cv2.waitKey(1)"
   ]
  },
  {
   "cell_type": "code",
   "execution_count": null,
   "metadata": {},
   "outputs": [],
   "source": []
  }
 ],
 "metadata": {
  "kernelspec": {
   "display_name": "Python 3",
   "language": "python",
   "name": "python3"
  },
  "language_info": {
   "codemirror_mode": {
    "name": "ipython",
    "version": 3
   },
   "file_extension": ".py",
   "mimetype": "text/x-python",
   "name": "python",
   "nbconvert_exporter": "python",
   "pygments_lexer": "ipython3",
   "version": "3.8.6"
  }
 },
 "nbformat": 4,
 "nbformat_minor": 4
}
