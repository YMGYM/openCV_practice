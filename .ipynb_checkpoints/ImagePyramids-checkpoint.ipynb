{
 "cells": [
  {
   "cell_type": "markdown",
   "metadata": {},
   "source": [
    "# Image Pyramids\n",
    "\n",
    "이미지 피라미드 : 서로 다른 이미지 사이즈의 set\n",
    "이미지 피라미드를 사용해서 Scale을 키우면(이미지가 작아질수록 Scale은 커진다)\n",
    "Sliding window가 한 번에 보는 면적이 넓어져 다른 결과가 나올 수 있다.\n",
    "\n",
    "`Gaussian Pyramids` 와 `Laplacian Pyramids` 가 있음.\n",
    "\n",
    "[링크](https://darkpgmr.tistory.com/137) 를 참조했다.\n",
    "\n",
    "\n",
    "## Gaussian\n",
    "이미지를 블러 후 홀수 번째 픽셀만 사용한다.\n",
    "한 번 시행할 때마다 이미지 사이즈가 1/4로 줄어드는 특징\n",
    "![가우시안](https://t1.daumcdn.net/cfile/tistory/271C783A536F3D8D24)\n",
    "![가우시안2](https://t1.daumcdn.net/cfile/tistory/2140BB47536F3DE704)"
   ]
  },
  {
   "cell_type": "code",
   "execution_count": 18,
   "metadata": {},
   "outputs": [
    {
     "data": {
      "text/plain": [
       "-1"
      ]
     },
     "execution_count": 18,
     "metadata": {},
     "output_type": "execute_result"
    }
   ],
   "source": [
    "import cv2\n",
    "\n",
    "img = cv2.imread(\"Images/Sample_nizi4.jpg\")\n",
    "\n",
    "lower_reso = cv2.pyrDown(img) # 원본 이미지의 1/4 사이즈\n",
    "higher_reso = cv2.pyrUp(img) # 원본 이미지의 4배\n",
    "\n",
    "cv2.imshow('img', img)\n",
    "cv2.imshow('lower', lower_reso)\n",
    "cv2.imshow('higher', higher_reso)\n",
    "\n",
    "cv2.waitKey(0)\n",
    "cv2.destroyAllWindows()\n",
    "cv2.waitKey(1)"
   ]
  },
  {
   "cell_type": "code",
   "execution_count": 24,
   "metadata": {},
   "outputs": [
    {
     "name": "stdout",
     "output_type": "stream",
     "text": [
      "원래 이미지의 크기 (850, 850, 3)\n",
      "축소한 이미지의 크기 (425, 425, 3)\n",
      "확대한 이미지의 크기 (1700, 1700, 3)\n"
     ]
    }
   ],
   "source": [
    "print(\"원래 이미지의 크기\", img.shape)\n",
    "print(\"축소한 이미지의 크기\", lower_reso.shape)\n",
    "print(\"확대한 이미지의 크기\", higher_reso.shape)"
   ]
  },
  {
   "cell_type": "markdown",
   "metadata": {},
   "source": [
    "## Laplacian 피라미드\n",
    "Gaussian 방법의 문제 때문에, 축소 후 확대하면 1픽셀의 차이가 나게 된다 = 외각선을 남길 수 있다.\n",
    "\n",
    "원본 이미지 - 업스케일링한 이미지의 차이가 Laplacian 피라미드이다."
   ]
  },
  {
   "cell_type": "code",
   "execution_count": 43,
   "metadata": {},
   "outputs": [
    {
     "name": "stdout",
     "output_type": "stream",
     "text": [
      "(425, 425, 3)\n",
      "(850, 850, 3)\n"
     ]
    },
    {
     "data": {
      "text/plain": [
       "-1"
      ]
     },
     "execution_count": 43,
     "metadata": {},
     "output_type": "execute_result"
    }
   ],
   "source": [
    "import cv2\n",
    "img = cv2.imread(\"Images/Sample_nizi4.jpg\")\n",
    "img.shape\n",
    "\n",
    "GAD = cv2.pyrDown(img)\n",
    "print(GAD.shape)\n",
    "\n",
    "GAU = cv2.pyrUp(GAD)\n",
    "print(GAU.shape)\n",
    "\n",
    "temp = cv2.resize(GAU, (850, 850))\n",
    "res = cv2.subtract(img, temp)\n",
    "\n",
    "cv2.imshow(\"res\", res)\n",
    "cv2.imshow(\"temp\", temp)\n",
    "cv2.waitKey(0)\n",
    "\n",
    "cv2.destroyAllWindows()\n",
    "cv2.waitKey(1)"
   ]
  },
  {
   "cell_type": "code",
   "execution_count": 33,
   "metadata": {},
   "outputs": [
    {
     "data": {
      "text/plain": [
       "False"
      ]
     },
     "execution_count": 33,
     "metadata": {},
     "output_type": "execute_result"
    }
   ],
   "source": [
    "import numpy as np\n",
    "np.array_equal(img, GAU)\n",
    "# Gaussian method 의 방법 때문에, 다른 배열이 나타나게 된다."
   ]
  },
  {
   "cell_type": "markdown",
   "metadata": {},
   "source": [
    "이미지 Pyramid 를 이용해 이미지 결합을 자연스럽게 처리하는 법\n",
    "1. 2개의 이미지를 각각 불러옴\n",
    "2. 각 이미지에 대해 가우시안 피라미드 생성\n",
    "3. 가우시안 피라미드를 이용해 Laplacian 피라미드 생성\n",
    "4. 3을 이용하여 각 이미지의 좌측과 우측을 결함\n",
    "5. 결함한 결과중 가장 작은 이미지를 확대하면서 동일 사이즈의 결합결과와 ADD하여 외각선을 선명하게 처리"
   ]
  },
  {
   "cell_type": "code",
   "execution_count": 42,
   "metadata": {},
   "outputs": [
    {
     "name": "stdout",
     "output_type": "stream",
     "text": [
      "5\n",
      "10\n",
      "20\n",
      "40\n",
      "80\n",
      "160\n"
     ]
    },
    {
     "data": {
      "text/plain": [
       "-1"
      ]
     },
     "execution_count": 42,
     "metadata": {},
     "output_type": "execute_result"
    }
   ],
   "source": [
    "import cv2\n",
    "import numpy as np\n",
    "import matplotlib.pyplot as plt\n",
    "\n",
    "# 1단계\n",
    "A = cv2.imread(\"Images/Sample_mili1.jpg\")\n",
    "B = cv2.imread(\"Images/Sample_mili2.jpg\")\n",
    "\n",
    "# 2단계\n",
    "G = A.copy()\n",
    "gpA = [G]\n",
    "for i in range(6):\n",
    "    G = cv2.pyrDown(G)\n",
    "    gpA.append(G)\n",
    "    \n",
    "G = B.copy()\n",
    "gpB = [G]\n",
    "for i in range(6):\n",
    "    G = cv2.pyrDown(G)\n",
    "    gpB.append(G)\n",
    "    \n",
    "# 3단계. Laplacian Pyramid 생성\n",
    "lpA = [gpA[5]]\n",
    "for i in range(5, 0 ,-1):\n",
    "    GE = cv2.pyrUp(gpA[i])\n",
    "    temp = cv2.resize(gpA[i-1], (GE.shape[:2][1], GE.shape[:2][0]))\n",
    "    \n",
    "    L = cv2.subtract(temp, GE)\n",
    "    lpA.append(L)\n",
    "    \n",
    "lpB = [gpB[5]]\n",
    "for i in range(5, 0 ,-1):\n",
    "    GE = cv2.pyrUp(gpB[i])\n",
    "    temp = cv2.resize(gpB[i-1], (GE.shape[:2][1], GE.shape[:2][0]))\n",
    "    \n",
    "    L = cv2.subtract(temp, GE)\n",
    "    lpB.append(L)\n",
    "    \n",
    "# 4단계.\n",
    "LS = []\n",
    "for la, lb in zip(lpA, lpB):\n",
    "    rows, cols, dpt = la.shape\n",
    "    ls = np.hstack((la[:, 0:int(cols/2)], lb[:, int(cols/2):]))\n",
    "    LS.append(ls)\n",
    "    \n",
    "\n",
    "# 5단계\n",
    "ls_ = LS[0]\n",
    "for i in range(1,6):\n",
    "    ls_ = cv2.pyrUp(ls_) # upscale\n",
    "    temp = cv2.resize(LS[i], (ls_.shape[:2][1], ls_.shape[:2][0]))\n",
    "    ls_ = cv2.add(ls_, temp) # 선명한 이미지 생성\n",
    "    \n",
    "# 원본 이미지를 그대로 붙인 경우\n",
    "real = np.hstack((A[:, :int(cols/2)], B[:,int(cols/2):]))\n",
    "\n",
    "cv2.imshow('real', real)\n",
    "cv2.imshow('blending', ls_)\n",
    "cv2.waitKey(0)\n",
    "cv2.destroyAllWindows()\n",
    "cv2.waitKey(1)"
   ]
  },
  {
   "cell_type": "code",
   "execution_count": 39,
   "metadata": {},
   "outputs": [
    {
     "data": {
      "text/plain": [
       "5"
      ]
     },
     "execution_count": 39,
     "metadata": {},
     "output_type": "execute_result"
    }
   ],
   "source": [
    "rows"
   ]
  },
  {
   "cell_type": "code",
   "execution_count": null,
   "metadata": {},
   "outputs": [],
   "source": []
  }
 ],
 "metadata": {
  "kernelspec": {
   "display_name": "Python 3",
   "language": "python",
   "name": "python3"
  },
  "language_info": {
   "codemirror_mode": {
    "name": "ipython",
    "version": 3
   },
   "file_extension": ".py",
   "mimetype": "text/x-python",
   "name": "python",
   "nbconvert_exporter": "python",
   "pygments_lexer": "ipython3",
   "version": "3.8.6"
  }
 },
 "nbformat": 4,
 "nbformat_minor": 4
}
