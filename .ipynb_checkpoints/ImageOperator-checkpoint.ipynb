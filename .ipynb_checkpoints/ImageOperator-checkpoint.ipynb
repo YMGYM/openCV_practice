{
 "cells": [
  {
   "cell_type": "markdown",
   "metadata": {},
   "source": [
    "# 이미지 연산\n",
    "\n",
    "## 이미지 더하기\n",
    "방법이 총 두 가지\n",
    "`cv2.add()` : Saturation 연산 (범위 밖 값은 모두 한계값으로 설정)\n",
    "\n",
    "`img1 + img2` : Modulo 연산 (한계 값으로 나눈 나머지로 연산)\n"
   ]
  },
  {
   "cell_type": "code",
   "execution_count": null,
   "metadata": {},
   "outputs": [],
   "source": []
  }
 ],
 "metadata": {
  "kernelspec": {
   "display_name": "Python 3",
   "language": "python",
   "name": "python3"
  },
  "language_info": {
   "codemirror_mode": {
    "name": "ipython",
    "version": 3
   },
   "file_extension": ".py",
   "mimetype": "text/x-python",
   "name": "python",
   "nbconvert_exporter": "python",
   "pygments_lexer": "ipython3",
   "version": "3.8.6"
  }
 },
 "nbformat": 4,
 "nbformat_minor": 4
}
