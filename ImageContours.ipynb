{
 "cells": [
  {
   "cell_type": "markdown",
   "metadata": {},
   "source": [
    "# Contours\n",
    "동일한 색 또는 동일한 강도를 가지고 있는 영역의 경계선을 연결한 선.\n",
    "등고선이나 일기예보의 선에서 볼수 있다.\n",
    "\n",
    "![등고선](https://opencv-python.readthedocs.io/en/latest/_images/image01.jpg)"
   ]
  },
  {
   "cell_type": "markdown",
   "metadata": {},
   "source": [
    "`cv2.findContours(image, mode, method, contours, hierarchy, offset)`\n",
    "- image\n",
    "- mode\n",
    "    - `cv2.RETR_EXTERNAL` : 가장 바깥쪽 줄만\n",
    "    - `cv2.RETR_LIST` : 모든 라인을 찾지만 hierachy 관계는 구성하지 않음\n",
    "    - `cv2.RETR_CCOMP` : 모든 라인을 챂고, hierachy 관계는 2레벨\n",
    "    - `cv2.RETR_TREE` : 모든 라인을 찾고 모든 계층을 구성함\n",
    "- method\n",
    "    - `cv2.CHAIN_APPROX_NONE` : 모든 contours point 저장\n",
    "    - `cv2.CHAIN_APPROX_SIMPLE` : contours line 을 그릴 수 있는 point 만 저장 (단순화된 특징점만 저장함)\n",
    "    - `cv2.CHAIN_APPROX_TC89L1`\n",
    "    - `cv2.CHAIN_APPROX_TC89_KCOS`\n",
    "    \n",
    "`cv2.drawContoours(image, cntours, contourIdx, color, thickness, lineType, hierarchy, maxLevel)`\n",
    "- image\n",
    "- contours : contours 정보\n",
    "- contourIdx : 몇 번째 line 을 그릴지. -1이면 전체임\n",
    "- color\n",
    "- thickness : 두께. 음수이면 내부를 채움\n",
    "\n",
    "## 예제코드"
   ]
  },
  {
   "cell_type": "code",
   "execution_count": 18,
   "metadata": {},
   "outputs": [
    {
     "data": {
      "text/plain": [
       "-1"
      ]
     },
     "execution_count": 18,
     "metadata": {},
     "output_type": "execute_result"
    }
   ],
   "source": [
    "import cv2\n",
    "import numpy as np\n",
    "\n",
    "img = cv2.imread(\"Images/Sample_nizi3.png\")\n",
    "imgray = cv2.cvtColor(img, cv2.COLOR_BGR2GRAY)\n",
    "\n",
    "ret, thresh = cv2.threshold(imgray, 127,255,0) # binary 이미지로 변환\n",
    "\n",
    "# contours 는 point 의 리스트.\n",
    "contours, hierachy = cv2.findContours(thresh, cv2.RETR_TREE, cv2.CHAIN_APPROX_SIMPLE)\n",
    "image = cv2.drawContours(img, contours, -1, (0,255,0), 3)\n",
    "\n",
    "cv2.imshow('Image', img)\n",
    "cv2.waitKey(0)\n",
    "cv2.destroyAllWindows()\n",
    "cv2.waitKey(1)"
   ]
  },
  {
   "cell_type": "code",
   "execution_count": 17,
   "metadata": {},
   "outputs": [
    {
     "data": {
      "text/plain": [
       "(1200, 1200, 3)"
      ]
     },
     "execution_count": 17,
     "metadata": {},
     "output_type": "execute_result"
    }
   ],
   "source": [
    "img.shape"
   ]
  },
  {
   "cell_type": "code",
   "execution_count": null,
   "metadata": {},
   "outputs": [],
   "source": []
  }
 ],
 "metadata": {
  "kernelspec": {
   "display_name": "Python 3",
   "language": "python",
   "name": "python3"
  },
  "language_info": {
   "codemirror_mode": {
    "name": "ipython",
    "version": 3
   },
   "file_extension": ".py",
   "mimetype": "text/x-python",
   "name": "python",
   "nbconvert_exporter": "python",
   "pygments_lexer": "ipython3",
   "version": "3.8.6"
  }
 },
 "nbformat": 4,
 "nbformat_minor": 4
}
