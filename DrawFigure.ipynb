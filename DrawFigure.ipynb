{
 "cells": [
  {
   "cell_type": "markdown",
   "metadata": {},
   "source": [
    "# 도형 그리기\n",
    "이미지에서 match 가 되는 영역 표시 등, 사용자가 결과를 인식하기 쉽게 함\n",
    "## Line 그리기\n"
   ]
  },
  {
   "cell_type": "code",
   "execution_count": 4,
   "metadata": {},
   "outputs": [],
   "source": [
    "import numpy as np\n",
    "import cv2"
   ]
  },
  {
   "cell_type": "code",
   "execution_count": 5,
   "metadata": {},
   "outputs": [],
   "source": [
    "img = np.zeros((512,512,3), np.uint8) # 검정색 canvas\n",
    "img = cv2.line(img, (0,0), (511,511), (255,0,0), 5)"
   ]
  },
  {
   "cell_type": "markdown",
   "metadata": {},
   "source": [
    "`cv2.line(img, start end, color, thickness)`\n",
    "- img : 그림을 그릴 파일\n",
    "- start : 시작 좌표\n",
    "- end : 종료 좌표\n",
    "- color : BGR 형태의 color (255, 0, 0) => blue\n",
    "- thickness : 선 두께(픽셀)"
   ]
  },
  {
   "cell_type": "code",
   "execution_count": 12,
   "metadata": {},
   "outputs": [
    {
     "data": {
      "text/plain": [
       "-1"
      ]
     },
     "execution_count": 12,
     "metadata": {},
     "output_type": "execute_result"
    }
   ],
   "source": [
    "cv2.imshow('img', img)\n",
    "cv2.waitKey(0)\n",
    "cv2.destroyAllWindows()\n",
    "cv2.waitKey(1)"
   ]
  },
  {
   "cell_type": "markdown",
   "metadata": {},
   "source": [
    "## 사각형 그리기\n",
    "왼쪽 위와 오른쪽 아래 점을 연결하는 사각형\n",
    "\n",
    "`cv2.rectangle(img, start, end, color, thickness)`"
   ]
  },
  {
   "cell_type": "code",
   "execution_count": 7,
   "metadata": {},
   "outputs": [],
   "source": [
    "img = cv2.rectangle(img, (384,0), (510,128), (0,255,0), 3)"
   ]
  },
  {
   "cell_type": "markdown",
   "metadata": {},
   "source": [
    "## 원 그리기\n",
    "`cv2.circle(img, center, radian, color, thickness)`"
   ]
  },
  {
   "cell_type": "code",
   "execution_count": 8,
   "metadata": {},
   "outputs": [],
   "source": [
    "img = cv2.circle(img, (447,63), 63, (0,0,255), -1)\n",
    "# thickness 가 -1이면 원 안쪽을 채운다"
   ]
  },
  {
   "cell_type": "markdown",
   "metadata": {},
   "source": [
    "## 타원 그리기\n",
    "`cv2.ellipse(img, center, axes, angle, startAngle, endAngle, color, thickness)`\n",
    "- axes : 중심에서 가장 큰 거리와 작은 거리\n",
    "- angle : 타원의 기울기 각\n",
    "- startAngle : 타원의 시작 각도\n",
    "- endAngle : 타원이 끝나는 각도"
   ]
  },
  {
   "cell_type": "code",
   "execution_count": 9,
   "metadata": {},
   "outputs": [],
   "source": [
    "img = cv2.ellipse(img, (256,256), (100,50), 0, 0, 180, 255, -1)"
   ]
  },
  {
   "cell_type": "markdown",
   "metadata": {},
   "source": [
    "## 폴리곤 그리기\n",
    "`cv2.polylines(img, pts, isClosed, color, thickness)`\n",
    "\n",
    "- pts : 연결할 꼭지점 좌표\n",
    "- isClosed : 닫힌 도형 여부"
   ]
  },
  {
   "cell_type": "code",
   "execution_count": 10,
   "metadata": {},
   "outputs": [
    {
     "name": "stdout",
     "output_type": "stream",
     "text": [
      "[[[10  5]]\n",
      "\n",
      " [[20 30]]\n",
      "\n",
      " [[70 20]]\n",
      "\n",
      " [[50 10]]]\n"
     ]
    }
   ],
   "source": [
    "pts = np.array([[10,5], [20,30], [70,20], [50,10]], np.int32)\n",
    "# 각 꼭지점은 2차원 행렬\n",
    "# 이미지에 표현하기위해 3차원 행렬로 변환\n",
    "pts = pts.reshape((-1,1,2))\n",
    "print(pts)\n",
    "img = cv2.polylines(img, [pts], True, (0,255,255))"
   ]
  },
  {
   "cell_type": "markdown",
   "metadata": {},
   "source": [
    "## Text 추가\n",
    "\n",
    "`cv2.putText(img,text,org,font,fontScale,color)`\n",
    "\n",
    "- text : 표시할 문자열\n",
    "- org : 문자열이 표시될 위치\n",
    "- font : font type. CV2.FONT_XXX 로 표시\n",
    "- fontScale : 폰트 사이즈"
   ]
  },
  {
   "cell_type": "code",
   "execution_count": 11,
   "metadata": {},
   "outputs": [],
   "source": [
    "img = cv2.putText(img, 'OpenCV', (10, 500), cv2.FONT_HERSHEY_SIMPLEX, 4, (255,255,255), 2)"
   ]
  },
  {
   "cell_type": "code",
   "execution_count": null,
   "metadata": {},
   "outputs": [],
   "source": []
  }
 ],
 "metadata": {
  "kernelspec": {
   "display_name": "Python 3",
   "language": "python",
   "name": "python3"
  },
  "language_info": {
   "codemirror_mode": {
    "name": "ipython",
    "version": 3
   },
   "file_extension": ".py",
   "mimetype": "text/x-python",
   "name": "python",
   "nbconvert_exporter": "python",
   "pygments_lexer": "ipython3",
   "version": "3.8.6"
  }
 },
 "nbformat": 4,
 "nbformat_minor": 4
}
